{
  "nbformat": 4,
  "nbformat_minor": 0,
  "metadata": {
    "colab": {
      "provenance": []
    },
    "kernelspec": {
      "name": "python3",
      "display_name": "Python 3"
    },
    "language_info": {
      "name": "python"
    }
  },
  "cells": [
    {
      "cell_type": "code",
      "execution_count": null,
      "metadata": {
        "id": "Guk5GV9x5RYA"
      },
      "outputs": [],
      "source": [
        "import pandas as pd\n",
        "import numpy as np\n",
        "from sklearn.model_selection import train_test_split,GridSearchCV,cross_val_predict\n",
        "from sklearn.neighbors import KNeighborsClassifier\n",
        "from sklearn.metrics import confusion_matrix,ConfusionMatrixDisplay,classification_report,accuracy_score"
      ]
    },
    {
      "cell_type": "markdown",
      "source": [
        "#Loading Data"
      ],
      "metadata": {
        "id": "v5z02pBk3IYW"
      }
    },
    {
      "cell_type": "code",
      "source": [
        "column_names=[\"x1\",\"x2\",\"x3\",\"x4\",\"x5\",\"x6\",\"x7\",\"x8\",\"x9\",\"x10\",\"label\"]\n",
        "df = pd.read_csv(\"/content/magic04.data\",names=column_names)"
      ],
      "metadata": {
        "id": "KSIL4vpI59Ll"
      },
      "execution_count": null,
      "outputs": []
    },
    {
      "cell_type": "markdown",
      "source": [
        "##Data Preprocessing"
      ],
      "metadata": {
        "id": "4-7R6J063LoU"
      }
    },
    {
      "cell_type": "code",
      "source": [
        "# Counting number of g's and h's in the dataset\n",
        "g_count = df['label'].value_counts()['g']\n",
        "h_count = df['label'].value_counts()['h']\n",
        "print(f'Sum of gammas= {g_count} / Sum of hadrons= {h_count}')"
      ],
      "metadata": {
        "colab": {
          "base_uri": "https://localhost:8080/"
        },
        "id": "9RC3kOcy6IkB",
        "outputId": "4fc7c335-e831-41a8-dd7a-1a9622246fcb"
      },
      "execution_count": null,
      "outputs": [
        {
          "output_type": "stream",
          "name": "stdout",
          "text": [
            "Sum of gammas= 12332 / Sum of hadrons= 6688\n"
          ]
        }
      ]
    },
    {
      "cell_type": "code",
      "source": [
        "# getting a random sample from g that's the size of h\n",
        "gamma_data = df[df['label'] == 'g'].sample(h_count, replace=False)\n",
        "hadron_data = df[df['label'] == 'h']\n",
        "\n",
        "# Counting g's and h's\n",
        "g_count = gamma_data['label'].value_counts()['g']\n",
        "h_count = hadron_data['label'].value_counts()['h']\n",
        "print(f'Sum of new gammas= {g_count} / Sum of hadrons= {h_count}')"
      ],
      "metadata": {
        "id": "D1ZoVCz77Rmp",
        "colab": {
          "base_uri": "https://localhost:8080/"
        },
        "outputId": "e8487343-00ef-40f0-9fc0-9d8f76bb54a1"
      },
      "execution_count": null,
      "outputs": [
        {
          "output_type": "stream",
          "name": "stdout",
          "text": [
            "Sum of new gammas= 6688 / Sum of hadrons= 6688\n"
          ]
        }
      ]
    },
    {
      "cell_type": "code",
      "source": [
        "# Concatinating the data back together\n",
        "data=[gamma_data,hadron_data]\n",
        "telescope_data = pd.concat(data)\n",
        "print(f\"Shape: {telescope_data.shape}\")\n",
        "# Displaying the shape of the data\n",
        "telescope_data.head()"
      ],
      "metadata": {
        "colab": {
          "base_uri": "https://localhost:8080/",
          "height": 225
        },
        "id": "RG6bdLtg6m9K",
        "outputId": "680e1a5f-57c7-4e2d-a001-5351226739a7"
      },
      "execution_count": null,
      "outputs": [
        {
          "output_type": "stream",
          "name": "stdout",
          "text": [
            "Shape: (13376, 11)\n"
          ]
        },
        {
          "output_type": "execute_result",
          "data": {
            "text/plain": [
              "            x1       x2      x3      x4      x5       x6       x7       x8  \\\n",
              "48     63.2886  26.4270  3.4434  0.2342  0.1273 -27.3566  54.6506  19.7834   \n",
              "3589   20.4669  12.8241  2.3971  0.5451  0.2826 -11.1968  -5.9458   7.7056   \n",
              "5436   30.1806  12.9090  2.4771  0.3833  0.1950  11.2030  20.5384  -5.1373   \n",
              "11145  32.7548  20.0059  2.8558  0.3331  0.1735   4.8915 -31.9813 -11.4819   \n",
              "12212  19.7327   7.4090  2.1021  0.7194  0.4229   0.4781  -5.2530  -5.0183   \n",
              "\n",
              "            x9       x10 label  \n",
              "48      0.9753  302.8970     g  \n",
              "3589   26.0698  194.0770     g  \n",
              "5436   11.4230   86.4610     g  \n",
              "11145   2.2496  221.2130     g  \n",
              "12212  89.3153   98.6568     g  "
            ],
            "text/html": [
              "\n",
              "  <div id=\"df-699c3b95-428e-49d1-8773-a0e6ddd20cac\" class=\"colab-df-container\">\n",
              "    <div>\n",
              "<style scoped>\n",
              "    .dataframe tbody tr th:only-of-type {\n",
              "        vertical-align: middle;\n",
              "    }\n",
              "\n",
              "    .dataframe tbody tr th {\n",
              "        vertical-align: top;\n",
              "    }\n",
              "\n",
              "    .dataframe thead th {\n",
              "        text-align: right;\n",
              "    }\n",
              "</style>\n",
              "<table border=\"1\" class=\"dataframe\">\n",
              "  <thead>\n",
              "    <tr style=\"text-align: right;\">\n",
              "      <th></th>\n",
              "      <th>x1</th>\n",
              "      <th>x2</th>\n",
              "      <th>x3</th>\n",
              "      <th>x4</th>\n",
              "      <th>x5</th>\n",
              "      <th>x6</th>\n",
              "      <th>x7</th>\n",
              "      <th>x8</th>\n",
              "      <th>x9</th>\n",
              "      <th>x10</th>\n",
              "      <th>label</th>\n",
              "    </tr>\n",
              "  </thead>\n",
              "  <tbody>\n",
              "    <tr>\n",
              "      <th>48</th>\n",
              "      <td>63.2886</td>\n",
              "      <td>26.4270</td>\n",
              "      <td>3.4434</td>\n",
              "      <td>0.2342</td>\n",
              "      <td>0.1273</td>\n",
              "      <td>-27.3566</td>\n",
              "      <td>54.6506</td>\n",
              "      <td>19.7834</td>\n",
              "      <td>0.9753</td>\n",
              "      <td>302.8970</td>\n",
              "      <td>g</td>\n",
              "    </tr>\n",
              "    <tr>\n",
              "      <th>3589</th>\n",
              "      <td>20.4669</td>\n",
              "      <td>12.8241</td>\n",
              "      <td>2.3971</td>\n",
              "      <td>0.5451</td>\n",
              "      <td>0.2826</td>\n",
              "      <td>-11.1968</td>\n",
              "      <td>-5.9458</td>\n",
              "      <td>7.7056</td>\n",
              "      <td>26.0698</td>\n",
              "      <td>194.0770</td>\n",
              "      <td>g</td>\n",
              "    </tr>\n",
              "    <tr>\n",
              "      <th>5436</th>\n",
              "      <td>30.1806</td>\n",
              "      <td>12.9090</td>\n",
              "      <td>2.4771</td>\n",
              "      <td>0.3833</td>\n",
              "      <td>0.1950</td>\n",
              "      <td>11.2030</td>\n",
              "      <td>20.5384</td>\n",
              "      <td>-5.1373</td>\n",
              "      <td>11.4230</td>\n",
              "      <td>86.4610</td>\n",
              "      <td>g</td>\n",
              "    </tr>\n",
              "    <tr>\n",
              "      <th>11145</th>\n",
              "      <td>32.7548</td>\n",
              "      <td>20.0059</td>\n",
              "      <td>2.8558</td>\n",
              "      <td>0.3331</td>\n",
              "      <td>0.1735</td>\n",
              "      <td>4.8915</td>\n",
              "      <td>-31.9813</td>\n",
              "      <td>-11.4819</td>\n",
              "      <td>2.2496</td>\n",
              "      <td>221.2130</td>\n",
              "      <td>g</td>\n",
              "    </tr>\n",
              "    <tr>\n",
              "      <th>12212</th>\n",
              "      <td>19.7327</td>\n",
              "      <td>7.4090</td>\n",
              "      <td>2.1021</td>\n",
              "      <td>0.7194</td>\n",
              "      <td>0.4229</td>\n",
              "      <td>0.4781</td>\n",
              "      <td>-5.2530</td>\n",
              "      <td>-5.0183</td>\n",
              "      <td>89.3153</td>\n",
              "      <td>98.6568</td>\n",
              "      <td>g</td>\n",
              "    </tr>\n",
              "  </tbody>\n",
              "</table>\n",
              "</div>\n",
              "    <div class=\"colab-df-buttons\">\n",
              "\n",
              "  <div class=\"colab-df-container\">\n",
              "    <button class=\"colab-df-convert\" onclick=\"convertToInteractive('df-699c3b95-428e-49d1-8773-a0e6ddd20cac')\"\n",
              "            title=\"Convert this dataframe to an interactive table.\"\n",
              "            style=\"display:none;\">\n",
              "\n",
              "  <svg xmlns=\"http://www.w3.org/2000/svg\" height=\"24px\" viewBox=\"0 -960 960 960\">\n",
              "    <path d=\"M120-120v-720h720v720H120Zm60-500h600v-160H180v160Zm220 220h160v-160H400v160Zm0 220h160v-160H400v160ZM180-400h160v-160H180v160Zm440 0h160v-160H620v160ZM180-180h160v-160H180v160Zm440 0h160v-160H620v160Z\"/>\n",
              "  </svg>\n",
              "    </button>\n",
              "\n",
              "  <style>\n",
              "    .colab-df-container {\n",
              "      display:flex;\n",
              "      gap: 12px;\n",
              "    }\n",
              "\n",
              "    .colab-df-convert {\n",
              "      background-color: #E8F0FE;\n",
              "      border: none;\n",
              "      border-radius: 50%;\n",
              "      cursor: pointer;\n",
              "      display: none;\n",
              "      fill: #1967D2;\n",
              "      height: 32px;\n",
              "      padding: 0 0 0 0;\n",
              "      width: 32px;\n",
              "    }\n",
              "\n",
              "    .colab-df-convert:hover {\n",
              "      background-color: #E2EBFA;\n",
              "      box-shadow: 0px 1px 2px rgba(60, 64, 67, 0.3), 0px 1px 3px 1px rgba(60, 64, 67, 0.15);\n",
              "      fill: #174EA6;\n",
              "    }\n",
              "\n",
              "    .colab-df-buttons div {\n",
              "      margin-bottom: 4px;\n",
              "    }\n",
              "\n",
              "    [theme=dark] .colab-df-convert {\n",
              "      background-color: #3B4455;\n",
              "      fill: #D2E3FC;\n",
              "    }\n",
              "\n",
              "    [theme=dark] .colab-df-convert:hover {\n",
              "      background-color: #434B5C;\n",
              "      box-shadow: 0px 1px 3px 1px rgba(0, 0, 0, 0.15);\n",
              "      filter: drop-shadow(0px 1px 2px rgba(0, 0, 0, 0.3));\n",
              "      fill: #FFFFFF;\n",
              "    }\n",
              "  </style>\n",
              "\n",
              "    <script>\n",
              "      const buttonEl =\n",
              "        document.querySelector('#df-699c3b95-428e-49d1-8773-a0e6ddd20cac button.colab-df-convert');\n",
              "      buttonEl.style.display =\n",
              "        google.colab.kernel.accessAllowed ? 'block' : 'none';\n",
              "\n",
              "      async function convertToInteractive(key) {\n",
              "        const element = document.querySelector('#df-699c3b95-428e-49d1-8773-a0e6ddd20cac');\n",
              "        const dataTable =\n",
              "          await google.colab.kernel.invokeFunction('convertToInteractive',\n",
              "                                                    [key], {});\n",
              "        if (!dataTable) return;\n",
              "\n",
              "        const docLinkHtml = 'Like what you see? Visit the ' +\n",
              "          '<a target=\"_blank\" href=https://colab.research.google.com/notebooks/data_table.ipynb>data table notebook</a>'\n",
              "          + ' to learn more about interactive tables.';\n",
              "        element.innerHTML = '';\n",
              "        dataTable['output_type'] = 'display_data';\n",
              "        await google.colab.output.renderOutput(dataTable, element);\n",
              "        const docLink = document.createElement('div');\n",
              "        docLink.innerHTML = docLinkHtml;\n",
              "        element.appendChild(docLink);\n",
              "      }\n",
              "    </script>\n",
              "  </div>\n",
              "\n",
              "\n",
              "<div id=\"df-2abffcbf-8a80-4821-a174-096187ef999d\">\n",
              "  <button class=\"colab-df-quickchart\" onclick=\"quickchart('df-2abffcbf-8a80-4821-a174-096187ef999d')\"\n",
              "            title=\"Suggest charts.\"\n",
              "            style=\"display:none;\">\n",
              "\n",
              "<svg xmlns=\"http://www.w3.org/2000/svg\" height=\"24px\"viewBox=\"0 0 24 24\"\n",
              "     width=\"24px\">\n",
              "    <g>\n",
              "        <path d=\"M19 3H5c-1.1 0-2 .9-2 2v14c0 1.1.9 2 2 2h14c1.1 0 2-.9 2-2V5c0-1.1-.9-2-2-2zM9 17H7v-7h2v7zm4 0h-2V7h2v10zm4 0h-2v-4h2v4z\"/>\n",
              "    </g>\n",
              "</svg>\n",
              "  </button>\n",
              "\n",
              "<style>\n",
              "  .colab-df-quickchart {\n",
              "      --bg-color: #E8F0FE;\n",
              "      --fill-color: #1967D2;\n",
              "      --hover-bg-color: #E2EBFA;\n",
              "      --hover-fill-color: #174EA6;\n",
              "      --disabled-fill-color: #AAA;\n",
              "      --disabled-bg-color: #DDD;\n",
              "  }\n",
              "\n",
              "  [theme=dark] .colab-df-quickchart {\n",
              "      --bg-color: #3B4455;\n",
              "      --fill-color: #D2E3FC;\n",
              "      --hover-bg-color: #434B5C;\n",
              "      --hover-fill-color: #FFFFFF;\n",
              "      --disabled-bg-color: #3B4455;\n",
              "      --disabled-fill-color: #666;\n",
              "  }\n",
              "\n",
              "  .colab-df-quickchart {\n",
              "    background-color: var(--bg-color);\n",
              "    border: none;\n",
              "    border-radius: 50%;\n",
              "    cursor: pointer;\n",
              "    display: none;\n",
              "    fill: var(--fill-color);\n",
              "    height: 32px;\n",
              "    padding: 0;\n",
              "    width: 32px;\n",
              "  }\n",
              "\n",
              "  .colab-df-quickchart:hover {\n",
              "    background-color: var(--hover-bg-color);\n",
              "    box-shadow: 0 1px 2px rgba(60, 64, 67, 0.3), 0 1px 3px 1px rgba(60, 64, 67, 0.15);\n",
              "    fill: var(--button-hover-fill-color);\n",
              "  }\n",
              "\n",
              "  .colab-df-quickchart-complete:disabled,\n",
              "  .colab-df-quickchart-complete:disabled:hover {\n",
              "    background-color: var(--disabled-bg-color);\n",
              "    fill: var(--disabled-fill-color);\n",
              "    box-shadow: none;\n",
              "  }\n",
              "\n",
              "  .colab-df-spinner {\n",
              "    border: 2px solid var(--fill-color);\n",
              "    border-color: transparent;\n",
              "    border-bottom-color: var(--fill-color);\n",
              "    animation:\n",
              "      spin 1s steps(1) infinite;\n",
              "  }\n",
              "\n",
              "  @keyframes spin {\n",
              "    0% {\n",
              "      border-color: transparent;\n",
              "      border-bottom-color: var(--fill-color);\n",
              "      border-left-color: var(--fill-color);\n",
              "    }\n",
              "    20% {\n",
              "      border-color: transparent;\n",
              "      border-left-color: var(--fill-color);\n",
              "      border-top-color: var(--fill-color);\n",
              "    }\n",
              "    30% {\n",
              "      border-color: transparent;\n",
              "      border-left-color: var(--fill-color);\n",
              "      border-top-color: var(--fill-color);\n",
              "      border-right-color: var(--fill-color);\n",
              "    }\n",
              "    40% {\n",
              "      border-color: transparent;\n",
              "      border-right-color: var(--fill-color);\n",
              "      border-top-color: var(--fill-color);\n",
              "    }\n",
              "    60% {\n",
              "      border-color: transparent;\n",
              "      border-right-color: var(--fill-color);\n",
              "    }\n",
              "    80% {\n",
              "      border-color: transparent;\n",
              "      border-right-color: var(--fill-color);\n",
              "      border-bottom-color: var(--fill-color);\n",
              "    }\n",
              "    90% {\n",
              "      border-color: transparent;\n",
              "      border-bottom-color: var(--fill-color);\n",
              "    }\n",
              "  }\n",
              "</style>\n",
              "\n",
              "  <script>\n",
              "    async function quickchart(key) {\n",
              "      const quickchartButtonEl =\n",
              "        document.querySelector('#' + key + ' button');\n",
              "      quickchartButtonEl.disabled = true;  // To prevent multiple clicks.\n",
              "      quickchartButtonEl.classList.add('colab-df-spinner');\n",
              "      try {\n",
              "        const charts = await google.colab.kernel.invokeFunction(\n",
              "            'suggestCharts', [key], {});\n",
              "      } catch (error) {\n",
              "        console.error('Error during call to suggestCharts:', error);\n",
              "      }\n",
              "      quickchartButtonEl.classList.remove('colab-df-spinner');\n",
              "      quickchartButtonEl.classList.add('colab-df-quickchart-complete');\n",
              "    }\n",
              "    (() => {\n",
              "      let quickchartButtonEl =\n",
              "        document.querySelector('#df-2abffcbf-8a80-4821-a174-096187ef999d button');\n",
              "      quickchartButtonEl.style.display =\n",
              "        google.colab.kernel.accessAllowed ? 'block' : 'none';\n",
              "    })();\n",
              "  </script>\n",
              "</div>\n",
              "    </div>\n",
              "  </div>\n"
            ]
          },
          "metadata": {},
          "execution_count": 88
        }
      ]
    },
    {
      "cell_type": "code",
      "source": [
        "# Shuffle the DataFrame\n",
        "telescope_data = telescope_data.sample(frac=1, random_state=42)  # Setting random_state for reproducibility\n",
        "\n",
        "# Reset the index of the shuffled DataFrame\n",
        "telescope_data.reset_index(drop=True, inplace=True)\n",
        "telescope_data.shape"
      ],
      "metadata": {
        "colab": {
          "base_uri": "https://localhost:8080/"
        },
        "id": "ldMMtQpVN8nM",
        "outputId": "2ff2dbc0-f00e-4386-861d-d7307c0a3301"
      },
      "execution_count": null,
      "outputs": [
        {
          "output_type": "execute_result",
          "data": {
            "text/plain": [
              "(13376, 11)"
            ]
          },
          "metadata": {},
          "execution_count": 89
        }
      ]
    },
    {
      "cell_type": "code",
      "source": [
        "# Splitting the data to a feature matrix and a label vector\n",
        "features=telescope_data.drop(['label'],axis=1)\n",
        "label=telescope_data['label']\n",
        "features.shape,label.shape"
      ],
      "metadata": {
        "id": "uc4HPw6ROC5l",
        "colab": {
          "base_uri": "https://localhost:8080/"
        },
        "outputId": "bca78ce6-2dca-48a9-e14c-ed1e566787ce"
      },
      "execution_count": null,
      "outputs": [
        {
          "output_type": "execute_result",
          "data": {
            "text/plain": [
              "((13376, 10), (13376,))"
            ]
          },
          "metadata": {},
          "execution_count": 91
        }
      ]
    },
    {
      "cell_type": "markdown",
      "source": [
        "##Spliting the data 70-15-15"
      ],
      "metadata": {
        "id": "aXuttdNz49fG"
      }
    },
    {
      "cell_type": "code",
      "source": [
        "# Split the data into a training set (70%) and a temporary combined validation/test set (30%)\n",
        "X_train,x_val_test,Y_train,y_val_test = train_test_split(features,label, test_size=0.3, random_state=42)\n",
        "\n",
        "# Split the temporary validation/test set into validation (15%) and test (15%)\n",
        "X_val,X_test,Y_val,Y_test = train_test_split(x_val_test, y_val_test, test_size=0.5, random_state=42)\n"
      ],
      "metadata": {
        "id": "zXyzQm2-SIJA"
      },
      "execution_count": null,
      "outputs": []
    },
    {
      "cell_type": "markdown",
      "source": [
        "#Building the model"
      ],
      "metadata": {
        "id": "OJtjJwHo5B1E"
      }
    },
    {
      "cell_type": "code",
      "source": [
        "# Building the model\n",
        "knn=KNeighborsClassifier()\n",
        "\n",
        "# Setting the values to search for K in\n",
        "param_grid={'n_neighbors':np.arange(1,115)}\n",
        "\n",
        "# Finding the best K\n",
        "grid_search=GridSearchCV(knn,param_grid,cv=5)\n",
        "grid_search.fit(X_train,Y_train)\n",
        "\n",
        "\n",
        "# Get the top 3 sets of hyperparameters and their scores\n",
        "results = pd.DataFrame(grid_search.cv_results_).sort_values(by='mean_test_score', ascending=False)\n",
        "top_3_results = results[['params', 'mean_test_score']].head(3)\n",
        "\n",
        "# Print the top 3 sets of hyperparameters and their scores\n",
        "for index, row in top_3_results.iterrows():\n",
        "    print(f\"Hyperparameters: {row['params']}, Mean Test Score: {row['mean_test_score']}\")"
      ],
      "metadata": {
        "id": "XQL3BmhvSwr0",
        "colab": {
          "base_uri": "https://localhost:8080/"
        },
        "outputId": "e6b53938-4a22-4839-e1bb-bbf9faa0c52d"
      },
      "execution_count": null,
      "outputs": [
        {
          "output_type": "stream",
          "name": "stdout",
          "text": [
            "Hyperparameters: {'n_neighbors': 9}, Mean Test Score: 0.7761409891348492\n",
            "Hyperparameters: {'n_neighbors': 7}, Mean Test Score: 0.7761400764804396\n",
            "Hyperparameters: {'n_neighbors': 13}, Mean Test Score: 0.776034094487111\n"
          ]
        }
      ]
    },
    {
      "cell_type": "code",
      "source": [
        "# Fitting the model to the best K\n",
        "best_k = grid_search.best_params_['n_neighbors']\n",
        "best_knn = KNeighborsClassifier(n_neighbors=best_k)\n",
        "best_knn.fit(X_train, Y_train)\n",
        "accuracy = best_knn.score(X_val, Y_val)\n",
        "\n",
        "# Displaying the best accuracy\n",
        "print(f\"Accuracy on Validation Set with Best k={best_k}: {accuracy:.4f}\")"
      ],
      "metadata": {
        "id": "a8BPt3T_Xw6O",
        "colab": {
          "base_uri": "https://localhost:8080/"
        },
        "outputId": "df9cc461-36d7-4181-9c83-677933a7e511"
      },
      "execution_count": null,
      "outputs": [
        {
          "output_type": "stream",
          "name": "stdout",
          "text": [
            "Accuracy on Validation Set with Best k=9: 0.7742\n"
          ]
        }
      ]
    },
    {
      "cell_type": "markdown",
      "source": [
        "#Testing model"
      ],
      "metadata": {
        "id": "r1zcglyD5F2K"
      }
    },
    {
      "cell_type": "code",
      "source": [
        "# Testing the model\n",
        "y_pred=best_knn.predict(X_test)\n",
        "\n",
        "# Printing the confusion matrix\n",
        "conf_mat=confusion_matrix(Y_test,y_pred)\n",
        "print(conf_mat)"
      ],
      "metadata": {
        "colab": {
          "base_uri": "https://localhost:8080/"
        },
        "id": "5Op2XhzNXz8M",
        "outputId": "107abf28-9238-4d22-b128-e54c64c4d933"
      },
      "execution_count": null,
      "outputs": [
        {
          "output_type": "stream",
          "name": "stdout",
          "text": [
            "[[829 145]\n",
            " [343 690]]\n"
          ]
        }
      ]
    },
    {
      "cell_type": "markdown",
      "source": [
        "##Model Report"
      ],
      "metadata": {
        "id": "Rd_B6oVZ5Wmg"
      }
    },
    {
      "cell_type": "code",
      "source": [
        "# Printing classification report\n",
        "print(classification_report(Y_test,y_pred))"
      ],
      "metadata": {
        "colab": {
          "base_uri": "https://localhost:8080/"
        },
        "id": "taoTzRy5dF1q",
        "outputId": "ab0c9271-a87b-410e-caf0-dc5c0fcb8c9f"
      },
      "execution_count": null,
      "outputs": [
        {
          "output_type": "stream",
          "name": "stdout",
          "text": [
            "              precision    recall  f1-score   support\n",
            "\n",
            "           g       0.71      0.85      0.77       974\n",
            "           h       0.83      0.67      0.74      1033\n",
            "\n",
            "    accuracy                           0.76      2007\n",
            "   macro avg       0.77      0.76      0.76      2007\n",
            "weighted avg       0.77      0.76      0.76      2007\n",
            "\n"
          ]
        }
      ]
    }
  ]
}