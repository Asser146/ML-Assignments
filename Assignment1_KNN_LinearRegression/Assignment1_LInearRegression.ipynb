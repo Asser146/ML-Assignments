{
  "nbformat": 4,
  "nbformat_minor": 0,
  "metadata": {
    "colab": {
      "provenance": [],
      "include_colab_link": true
    },
    "kernelspec": {
      "name": "python3",
      "display_name": "Python 3"
    },
    "language_info": {
      "name": "python"
    }
  },
  "cells": [
    {
      "cell_type": "markdown",
      "metadata": {
        "id": "view-in-github",
        "colab_type": "text"
      },
      "source": [
        "<a href=\"https://colab.research.google.com/github/Asser146/ML-Assignments/blob/master/Assignment1_LinearRegression.ipynb\" target=\"_parent\"><img src=\"https://colab.research.google.com/assets/colab-badge.svg\" alt=\"Open In Colab\"/></a>"
      ]
    },
    {
      "cell_type": "code",
      "execution_count": 1,
      "metadata": {
        "id": "7sz-KQY9fE6f"
      },
      "outputs": [],
      "source": [
        "import numpy as np\n",
        "import pandas as pd\n",
        "import matplotlib.pyplot as plt\n",
        "from sklearn.model_selection import train_test_split\n",
        "from sklearn.linear_model import LinearRegression\n",
        "from sklearn.linear_model import Ridge\n",
        "from sklearn.linear_model import Lasso\n",
        "from sklearn.metrics import mean_squared_error\n",
        "from sklearn.metrics import mean_absolute_error\n",
        "import random\n"
      ]
    },
    {
      "cell_type": "markdown",
      "source": [
        "# Loading Data"
      ],
      "metadata": {
        "id": "9_eEz263AfvK"
      }
    },
    {
      "cell_type": "code",
      "source": [
        "from google.colab import drive\n",
        "drive.mount('/content/drive')"
      ],
      "metadata": {
        "colab": {
          "base_uri": "https://localhost:8080/"
        },
        "id": "9Bd_S_WcIx0K",
        "outputId": "9554ae7d-f14b-4b7d-e7de-dbaeeab21305"
      },
      "execution_count": 2,
      "outputs": [
        {
          "output_type": "stream",
          "name": "stdout",
          "text": [
            "Mounted at /content/drive\n"
          ]
        }
      ]
    },
    {
      "cell_type": "code",
      "source": [
        "df=pd.read_csv(\"/content/drive/MyDrive/colab_files/ML Assignment 1/California_Houses.csv\")\n",
        "df.shape"
      ],
      "metadata": {
        "colab": {
          "base_uri": "https://localhost:8080/"
        },
        "id": "ymzPFFnkfqlU",
        "outputId": "020d4ca2-4d08-4f29-eb73-d9ddba258be2"
      },
      "execution_count": 3,
      "outputs": [
        {
          "output_type": "execute_result",
          "data": {
            "text/plain": [
              "(20640, 14)"
            ]
          },
          "metadata": {},
          "execution_count": 3
        }
      ]
    },
    {
      "cell_type": "markdown",
      "source": [
        "##Sample of the data"
      ],
      "metadata": {
        "id": "1AcWRG7mAimk"
      }
    },
    {
      "cell_type": "code",
      "source": [
        "df.head()"
      ],
      "metadata": {
        "colab": {
          "base_uri": "https://localhost:8080/",
          "height": 206
        },
        "id": "y9QjAV49heLg",
        "outputId": "e22bfa1e-0753-4fac-e0e4-9b7787ed3435"
      },
      "execution_count": 4,
      "outputs": [
        {
          "output_type": "execute_result",
          "data": {
            "text/plain": [
              "   Median_House_Value  Median_Income  Median_Age  Tot_Rooms  Tot_Bedrooms  \\\n",
              "0            452600.0         8.3252          41        880           129   \n",
              "1            358500.0         8.3014          21       7099          1106   \n",
              "2            352100.0         7.2574          52       1467           190   \n",
              "3            341300.0         5.6431          52       1274           235   \n",
              "4            342200.0         3.8462          52       1627           280   \n",
              "\n",
              "   Population  Households  Latitude  Longitude  Distance_to_coast  \\\n",
              "0         322         126     37.88    -122.23        9263.040773   \n",
              "1        2401        1138     37.86    -122.22       10225.733072   \n",
              "2         496         177     37.85    -122.24        8259.085109   \n",
              "3         558         219     37.85    -122.25        7768.086571   \n",
              "4         565         259     37.85    -122.25        7768.086571   \n",
              "\n",
              "   Distance_to_LA  Distance_to_SanDiego  Distance_to_SanJose  \\\n",
              "0   556529.158342         735501.806984         67432.517001   \n",
              "1   554279.850069         733236.884360         65049.908574   \n",
              "2   554610.717069         733525.682937         64867.289833   \n",
              "3   555194.266086         734095.290744         65287.138412   \n",
              "4   555194.266086         734095.290744         65287.138412   \n",
              "\n",
              "   Distance_to_SanFrancisco  \n",
              "0              21250.213767  \n",
              "1              20880.600400  \n",
              "2              18811.487450  \n",
              "3              18031.047568  \n",
              "4              18031.047568  "
            ],
            "text/html": [
              "\n",
              "  <div id=\"df-1d46e3b8-0749-4630-8c30-0d6eb39ab04a\" class=\"colab-df-container\">\n",
              "    <div>\n",
              "<style scoped>\n",
              "    .dataframe tbody tr th:only-of-type {\n",
              "        vertical-align: middle;\n",
              "    }\n",
              "\n",
              "    .dataframe tbody tr th {\n",
              "        vertical-align: top;\n",
              "    }\n",
              "\n",
              "    .dataframe thead th {\n",
              "        text-align: right;\n",
              "    }\n",
              "</style>\n",
              "<table border=\"1\" class=\"dataframe\">\n",
              "  <thead>\n",
              "    <tr style=\"text-align: right;\">\n",
              "      <th></th>\n",
              "      <th>Median_House_Value</th>\n",
              "      <th>Median_Income</th>\n",
              "      <th>Median_Age</th>\n",
              "      <th>Tot_Rooms</th>\n",
              "      <th>Tot_Bedrooms</th>\n",
              "      <th>Population</th>\n",
              "      <th>Households</th>\n",
              "      <th>Latitude</th>\n",
              "      <th>Longitude</th>\n",
              "      <th>Distance_to_coast</th>\n",
              "      <th>Distance_to_LA</th>\n",
              "      <th>Distance_to_SanDiego</th>\n",
              "      <th>Distance_to_SanJose</th>\n",
              "      <th>Distance_to_SanFrancisco</th>\n",
              "    </tr>\n",
              "  </thead>\n",
              "  <tbody>\n",
              "    <tr>\n",
              "      <th>0</th>\n",
              "      <td>452600.0</td>\n",
              "      <td>8.3252</td>\n",
              "      <td>41</td>\n",
              "      <td>880</td>\n",
              "      <td>129</td>\n",
              "      <td>322</td>\n",
              "      <td>126</td>\n",
              "      <td>37.88</td>\n",
              "      <td>-122.23</td>\n",
              "      <td>9263.040773</td>\n",
              "      <td>556529.158342</td>\n",
              "      <td>735501.806984</td>\n",
              "      <td>67432.517001</td>\n",
              "      <td>21250.213767</td>\n",
              "    </tr>\n",
              "    <tr>\n",
              "      <th>1</th>\n",
              "      <td>358500.0</td>\n",
              "      <td>8.3014</td>\n",
              "      <td>21</td>\n",
              "      <td>7099</td>\n",
              "      <td>1106</td>\n",
              "      <td>2401</td>\n",
              "      <td>1138</td>\n",
              "      <td>37.86</td>\n",
              "      <td>-122.22</td>\n",
              "      <td>10225.733072</td>\n",
              "      <td>554279.850069</td>\n",
              "      <td>733236.884360</td>\n",
              "      <td>65049.908574</td>\n",
              "      <td>20880.600400</td>\n",
              "    </tr>\n",
              "    <tr>\n",
              "      <th>2</th>\n",
              "      <td>352100.0</td>\n",
              "      <td>7.2574</td>\n",
              "      <td>52</td>\n",
              "      <td>1467</td>\n",
              "      <td>190</td>\n",
              "      <td>496</td>\n",
              "      <td>177</td>\n",
              "      <td>37.85</td>\n",
              "      <td>-122.24</td>\n",
              "      <td>8259.085109</td>\n",
              "      <td>554610.717069</td>\n",
              "      <td>733525.682937</td>\n",
              "      <td>64867.289833</td>\n",
              "      <td>18811.487450</td>\n",
              "    </tr>\n",
              "    <tr>\n",
              "      <th>3</th>\n",
              "      <td>341300.0</td>\n",
              "      <td>5.6431</td>\n",
              "      <td>52</td>\n",
              "      <td>1274</td>\n",
              "      <td>235</td>\n",
              "      <td>558</td>\n",
              "      <td>219</td>\n",
              "      <td>37.85</td>\n",
              "      <td>-122.25</td>\n",
              "      <td>7768.086571</td>\n",
              "      <td>555194.266086</td>\n",
              "      <td>734095.290744</td>\n",
              "      <td>65287.138412</td>\n",
              "      <td>18031.047568</td>\n",
              "    </tr>\n",
              "    <tr>\n",
              "      <th>4</th>\n",
              "      <td>342200.0</td>\n",
              "      <td>3.8462</td>\n",
              "      <td>52</td>\n",
              "      <td>1627</td>\n",
              "      <td>280</td>\n",
              "      <td>565</td>\n",
              "      <td>259</td>\n",
              "      <td>37.85</td>\n",
              "      <td>-122.25</td>\n",
              "      <td>7768.086571</td>\n",
              "      <td>555194.266086</td>\n",
              "      <td>734095.290744</td>\n",
              "      <td>65287.138412</td>\n",
              "      <td>18031.047568</td>\n",
              "    </tr>\n",
              "  </tbody>\n",
              "</table>\n",
              "</div>\n",
              "    <div class=\"colab-df-buttons\">\n",
              "\n",
              "  <div class=\"colab-df-container\">\n",
              "    <button class=\"colab-df-convert\" onclick=\"convertToInteractive('df-1d46e3b8-0749-4630-8c30-0d6eb39ab04a')\"\n",
              "            title=\"Convert this dataframe to an interactive table.\"\n",
              "            style=\"display:none;\">\n",
              "\n",
              "  <svg xmlns=\"http://www.w3.org/2000/svg\" height=\"24px\" viewBox=\"0 -960 960 960\">\n",
              "    <path d=\"M120-120v-720h720v720H120Zm60-500h600v-160H180v160Zm220 220h160v-160H400v160Zm0 220h160v-160H400v160ZM180-400h160v-160H180v160Zm440 0h160v-160H620v160ZM180-180h160v-160H180v160Zm440 0h160v-160H620v160Z\"/>\n",
              "  </svg>\n",
              "    </button>\n",
              "\n",
              "  <style>\n",
              "    .colab-df-container {\n",
              "      display:flex;\n",
              "      gap: 12px;\n",
              "    }\n",
              "\n",
              "    .colab-df-convert {\n",
              "      background-color: #E8F0FE;\n",
              "      border: none;\n",
              "      border-radius: 50%;\n",
              "      cursor: pointer;\n",
              "      display: none;\n",
              "      fill: #1967D2;\n",
              "      height: 32px;\n",
              "      padding: 0 0 0 0;\n",
              "      width: 32px;\n",
              "    }\n",
              "\n",
              "    .colab-df-convert:hover {\n",
              "      background-color: #E2EBFA;\n",
              "      box-shadow: 0px 1px 2px rgba(60, 64, 67, 0.3), 0px 1px 3px 1px rgba(60, 64, 67, 0.15);\n",
              "      fill: #174EA6;\n",
              "    }\n",
              "\n",
              "    .colab-df-buttons div {\n",
              "      margin-bottom: 4px;\n",
              "    }\n",
              "\n",
              "    [theme=dark] .colab-df-convert {\n",
              "      background-color: #3B4455;\n",
              "      fill: #D2E3FC;\n",
              "    }\n",
              "\n",
              "    [theme=dark] .colab-df-convert:hover {\n",
              "      background-color: #434B5C;\n",
              "      box-shadow: 0px 1px 3px 1px rgba(0, 0, 0, 0.15);\n",
              "      filter: drop-shadow(0px 1px 2px rgba(0, 0, 0, 0.3));\n",
              "      fill: #FFFFFF;\n",
              "    }\n",
              "  </style>\n",
              "\n",
              "    <script>\n",
              "      const buttonEl =\n",
              "        document.querySelector('#df-1d46e3b8-0749-4630-8c30-0d6eb39ab04a button.colab-df-convert');\n",
              "      buttonEl.style.display =\n",
              "        google.colab.kernel.accessAllowed ? 'block' : 'none';\n",
              "\n",
              "      async function convertToInteractive(key) {\n",
              "        const element = document.querySelector('#df-1d46e3b8-0749-4630-8c30-0d6eb39ab04a');\n",
              "        const dataTable =\n",
              "          await google.colab.kernel.invokeFunction('convertToInteractive',\n",
              "                                                    [key], {});\n",
              "        if (!dataTable) return;\n",
              "\n",
              "        const docLinkHtml = 'Like what you see? Visit the ' +\n",
              "          '<a target=\"_blank\" href=https://colab.research.google.com/notebooks/data_table.ipynb>data table notebook</a>'\n",
              "          + ' to learn more about interactive tables.';\n",
              "        element.innerHTML = '';\n",
              "        dataTable['output_type'] = 'display_data';\n",
              "        await google.colab.output.renderOutput(dataTable, element);\n",
              "        const docLink = document.createElement('div');\n",
              "        docLink.innerHTML = docLinkHtml;\n",
              "        element.appendChild(docLink);\n",
              "      }\n",
              "    </script>\n",
              "  </div>\n",
              "\n",
              "\n",
              "<div id=\"df-58cdb5d3-b678-42f3-8968-1929c06448e0\">\n",
              "  <button class=\"colab-df-quickchart\" onclick=\"quickchart('df-58cdb5d3-b678-42f3-8968-1929c06448e0')\"\n",
              "            title=\"Suggest charts.\"\n",
              "            style=\"display:none;\">\n",
              "\n",
              "<svg xmlns=\"http://www.w3.org/2000/svg\" height=\"24px\"viewBox=\"0 0 24 24\"\n",
              "     width=\"24px\">\n",
              "    <g>\n",
              "        <path d=\"M19 3H5c-1.1 0-2 .9-2 2v14c0 1.1.9 2 2 2h14c1.1 0 2-.9 2-2V5c0-1.1-.9-2-2-2zM9 17H7v-7h2v7zm4 0h-2V7h2v10zm4 0h-2v-4h2v4z\"/>\n",
              "    </g>\n",
              "</svg>\n",
              "  </button>\n",
              "\n",
              "<style>\n",
              "  .colab-df-quickchart {\n",
              "      --bg-color: #E8F0FE;\n",
              "      --fill-color: #1967D2;\n",
              "      --hover-bg-color: #E2EBFA;\n",
              "      --hover-fill-color: #174EA6;\n",
              "      --disabled-fill-color: #AAA;\n",
              "      --disabled-bg-color: #DDD;\n",
              "  }\n",
              "\n",
              "  [theme=dark] .colab-df-quickchart {\n",
              "      --bg-color: #3B4455;\n",
              "      --fill-color: #D2E3FC;\n",
              "      --hover-bg-color: #434B5C;\n",
              "      --hover-fill-color: #FFFFFF;\n",
              "      --disabled-bg-color: #3B4455;\n",
              "      --disabled-fill-color: #666;\n",
              "  }\n",
              "\n",
              "  .colab-df-quickchart {\n",
              "    background-color: var(--bg-color);\n",
              "    border: none;\n",
              "    border-radius: 50%;\n",
              "    cursor: pointer;\n",
              "    display: none;\n",
              "    fill: var(--fill-color);\n",
              "    height: 32px;\n",
              "    padding: 0;\n",
              "    width: 32px;\n",
              "  }\n",
              "\n",
              "  .colab-df-quickchart:hover {\n",
              "    background-color: var(--hover-bg-color);\n",
              "    box-shadow: 0 1px 2px rgba(60, 64, 67, 0.3), 0 1px 3px 1px rgba(60, 64, 67, 0.15);\n",
              "    fill: var(--button-hover-fill-color);\n",
              "  }\n",
              "\n",
              "  .colab-df-quickchart-complete:disabled,\n",
              "  .colab-df-quickchart-complete:disabled:hover {\n",
              "    background-color: var(--disabled-bg-color);\n",
              "    fill: var(--disabled-fill-color);\n",
              "    box-shadow: none;\n",
              "  }\n",
              "\n",
              "  .colab-df-spinner {\n",
              "    border: 2px solid var(--fill-color);\n",
              "    border-color: transparent;\n",
              "    border-bottom-color: var(--fill-color);\n",
              "    animation:\n",
              "      spin 1s steps(1) infinite;\n",
              "  }\n",
              "\n",
              "  @keyframes spin {\n",
              "    0% {\n",
              "      border-color: transparent;\n",
              "      border-bottom-color: var(--fill-color);\n",
              "      border-left-color: var(--fill-color);\n",
              "    }\n",
              "    20% {\n",
              "      border-color: transparent;\n",
              "      border-left-color: var(--fill-color);\n",
              "      border-top-color: var(--fill-color);\n",
              "    }\n",
              "    30% {\n",
              "      border-color: transparent;\n",
              "      border-left-color: var(--fill-color);\n",
              "      border-top-color: var(--fill-color);\n",
              "      border-right-color: var(--fill-color);\n",
              "    }\n",
              "    40% {\n",
              "      border-color: transparent;\n",
              "      border-right-color: var(--fill-color);\n",
              "      border-top-color: var(--fill-color);\n",
              "    }\n",
              "    60% {\n",
              "      border-color: transparent;\n",
              "      border-right-color: var(--fill-color);\n",
              "    }\n",
              "    80% {\n",
              "      border-color: transparent;\n",
              "      border-right-color: var(--fill-color);\n",
              "      border-bottom-color: var(--fill-color);\n",
              "    }\n",
              "    90% {\n",
              "      border-color: transparent;\n",
              "      border-bottom-color: var(--fill-color);\n",
              "    }\n",
              "  }\n",
              "</style>\n",
              "\n",
              "  <script>\n",
              "    async function quickchart(key) {\n",
              "      const quickchartButtonEl =\n",
              "        document.querySelector('#' + key + ' button');\n",
              "      quickchartButtonEl.disabled = true;  // To prevent multiple clicks.\n",
              "      quickchartButtonEl.classList.add('colab-df-spinner');\n",
              "      try {\n",
              "        const charts = await google.colab.kernel.invokeFunction(\n",
              "            'suggestCharts', [key], {});\n",
              "      } catch (error) {\n",
              "        console.error('Error during call to suggestCharts:', error);\n",
              "      }\n",
              "      quickchartButtonEl.classList.remove('colab-df-spinner');\n",
              "      quickchartButtonEl.classList.add('colab-df-quickchart-complete');\n",
              "    }\n",
              "    (() => {\n",
              "      let quickchartButtonEl =\n",
              "        document.querySelector('#df-58cdb5d3-b678-42f3-8968-1929c06448e0 button');\n",
              "      quickchartButtonEl.style.display =\n",
              "        google.colab.kernel.accessAllowed ? 'block' : 'none';\n",
              "    })();\n",
              "  </script>\n",
              "</div>\n",
              "    </div>\n",
              "  </div>\n"
            ]
          },
          "metadata": {},
          "execution_count": 4
        }
      ]
    },
    {
      "cell_type": "code",
      "source": [
        "# Splitting data to features matrix and label vector\n",
        "features=df.drop(columns='Median_House_Value')\n",
        "label=df['Median_House_Value']\n",
        "features.shape,label.shape"
      ],
      "metadata": {
        "id": "8OB3Qd1hnOyg",
        "colab": {
          "base_uri": "https://localhost:8080/"
        },
        "outputId": "6745d509-bb13-45c1-ca88-f58fe2130eb5"
      },
      "execution_count": 5,
      "outputs": [
        {
          "output_type": "execute_result",
          "data": {
            "text/plain": [
              "((20640, 13), (20640,))"
            ]
          },
          "metadata": {},
          "execution_count": 5
        }
      ]
    },
    {
      "cell_type": "markdown",
      "source": [
        "##Normalizing the data (min-max normlization)"
      ],
      "metadata": {
        "id": "hXGDJDxhAl_J"
      }
    },
    {
      "cell_type": "code",
      "source": [
        "# Applying min-max normlization\n",
        "normalized_features=(features-features.min())/(features.max()-features.min())\n",
        "normalized_features.head()"
      ],
      "metadata": {
        "colab": {
          "base_uri": "https://localhost:8080/",
          "height": 206
        },
        "id": "YGyuESd56l2Y",
        "outputId": "1b708dec-74ce-4305-af90-5aa3976266ea"
      },
      "execution_count": 6,
      "outputs": [
        {
          "output_type": "execute_result",
          "data": {
            "text/plain": [
              "   Median_Income  Median_Age  Tot_Rooms  Tot_Bedrooms  Population  Households  \\\n",
              "0       0.539668    0.784314   0.022331      0.019863    0.008941    0.020556   \n",
              "1       0.538027    0.392157   0.180503      0.171477    0.067210    0.186976   \n",
              "2       0.466028    1.000000   0.037260      0.029330    0.013818    0.028943   \n",
              "3       0.354699    1.000000   0.032352      0.036313    0.015555    0.035849   \n",
              "4       0.230776    1.000000   0.041330      0.043296    0.015752    0.042427   \n",
              "\n",
              "   Latitude  Longitude  Distance_to_coast  Distance_to_LA  \\\n",
              "0  0.567481   0.211155           0.027398        0.546362   \n",
              "1  0.565356   0.212151           0.030283        0.544152   \n",
              "2  0.564293   0.210159           0.024390        0.544477   \n",
              "3  0.564293   0.209163           0.022918        0.545050   \n",
              "4  0.564293   0.209163           0.022918        0.545050   \n",
              "\n",
              "   Distance_to_SanDiego  Distance_to_SanJose  Distance_to_SanFrancisco  \n",
              "0              0.614340             0.079961                  0.023023  \n",
              "1              0.612446             0.077112                  0.022614  \n",
              "2              0.612688             0.076894                  0.020323  \n",
              "3              0.613164             0.077396                  0.019459  \n",
              "4              0.613164             0.077396                  0.019459  "
            ],
            "text/html": [
              "\n",
              "  <div id=\"df-e2552e6b-5be6-4505-a039-8f0bec378e3f\" class=\"colab-df-container\">\n",
              "    <div>\n",
              "<style scoped>\n",
              "    .dataframe tbody tr th:only-of-type {\n",
              "        vertical-align: middle;\n",
              "    }\n",
              "\n",
              "    .dataframe tbody tr th {\n",
              "        vertical-align: top;\n",
              "    }\n",
              "\n",
              "    .dataframe thead th {\n",
              "        text-align: right;\n",
              "    }\n",
              "</style>\n",
              "<table border=\"1\" class=\"dataframe\">\n",
              "  <thead>\n",
              "    <tr style=\"text-align: right;\">\n",
              "      <th></th>\n",
              "      <th>Median_Income</th>\n",
              "      <th>Median_Age</th>\n",
              "      <th>Tot_Rooms</th>\n",
              "      <th>Tot_Bedrooms</th>\n",
              "      <th>Population</th>\n",
              "      <th>Households</th>\n",
              "      <th>Latitude</th>\n",
              "      <th>Longitude</th>\n",
              "      <th>Distance_to_coast</th>\n",
              "      <th>Distance_to_LA</th>\n",
              "      <th>Distance_to_SanDiego</th>\n",
              "      <th>Distance_to_SanJose</th>\n",
              "      <th>Distance_to_SanFrancisco</th>\n",
              "    </tr>\n",
              "  </thead>\n",
              "  <tbody>\n",
              "    <tr>\n",
              "      <th>0</th>\n",
              "      <td>0.539668</td>\n",
              "      <td>0.784314</td>\n",
              "      <td>0.022331</td>\n",
              "      <td>0.019863</td>\n",
              "      <td>0.008941</td>\n",
              "      <td>0.020556</td>\n",
              "      <td>0.567481</td>\n",
              "      <td>0.211155</td>\n",
              "      <td>0.027398</td>\n",
              "      <td>0.546362</td>\n",
              "      <td>0.614340</td>\n",
              "      <td>0.079961</td>\n",
              "      <td>0.023023</td>\n",
              "    </tr>\n",
              "    <tr>\n",
              "      <th>1</th>\n",
              "      <td>0.538027</td>\n",
              "      <td>0.392157</td>\n",
              "      <td>0.180503</td>\n",
              "      <td>0.171477</td>\n",
              "      <td>0.067210</td>\n",
              "      <td>0.186976</td>\n",
              "      <td>0.565356</td>\n",
              "      <td>0.212151</td>\n",
              "      <td>0.030283</td>\n",
              "      <td>0.544152</td>\n",
              "      <td>0.612446</td>\n",
              "      <td>0.077112</td>\n",
              "      <td>0.022614</td>\n",
              "    </tr>\n",
              "    <tr>\n",
              "      <th>2</th>\n",
              "      <td>0.466028</td>\n",
              "      <td>1.000000</td>\n",
              "      <td>0.037260</td>\n",
              "      <td>0.029330</td>\n",
              "      <td>0.013818</td>\n",
              "      <td>0.028943</td>\n",
              "      <td>0.564293</td>\n",
              "      <td>0.210159</td>\n",
              "      <td>0.024390</td>\n",
              "      <td>0.544477</td>\n",
              "      <td>0.612688</td>\n",
              "      <td>0.076894</td>\n",
              "      <td>0.020323</td>\n",
              "    </tr>\n",
              "    <tr>\n",
              "      <th>3</th>\n",
              "      <td>0.354699</td>\n",
              "      <td>1.000000</td>\n",
              "      <td>0.032352</td>\n",
              "      <td>0.036313</td>\n",
              "      <td>0.015555</td>\n",
              "      <td>0.035849</td>\n",
              "      <td>0.564293</td>\n",
              "      <td>0.209163</td>\n",
              "      <td>0.022918</td>\n",
              "      <td>0.545050</td>\n",
              "      <td>0.613164</td>\n",
              "      <td>0.077396</td>\n",
              "      <td>0.019459</td>\n",
              "    </tr>\n",
              "    <tr>\n",
              "      <th>4</th>\n",
              "      <td>0.230776</td>\n",
              "      <td>1.000000</td>\n",
              "      <td>0.041330</td>\n",
              "      <td>0.043296</td>\n",
              "      <td>0.015752</td>\n",
              "      <td>0.042427</td>\n",
              "      <td>0.564293</td>\n",
              "      <td>0.209163</td>\n",
              "      <td>0.022918</td>\n",
              "      <td>0.545050</td>\n",
              "      <td>0.613164</td>\n",
              "      <td>0.077396</td>\n",
              "      <td>0.019459</td>\n",
              "    </tr>\n",
              "  </tbody>\n",
              "</table>\n",
              "</div>\n",
              "    <div class=\"colab-df-buttons\">\n",
              "\n",
              "  <div class=\"colab-df-container\">\n",
              "    <button class=\"colab-df-convert\" onclick=\"convertToInteractive('df-e2552e6b-5be6-4505-a039-8f0bec378e3f')\"\n",
              "            title=\"Convert this dataframe to an interactive table.\"\n",
              "            style=\"display:none;\">\n",
              "\n",
              "  <svg xmlns=\"http://www.w3.org/2000/svg\" height=\"24px\" viewBox=\"0 -960 960 960\">\n",
              "    <path d=\"M120-120v-720h720v720H120Zm60-500h600v-160H180v160Zm220 220h160v-160H400v160Zm0 220h160v-160H400v160ZM180-400h160v-160H180v160Zm440 0h160v-160H620v160ZM180-180h160v-160H180v160Zm440 0h160v-160H620v160Z\"/>\n",
              "  </svg>\n",
              "    </button>\n",
              "\n",
              "  <style>\n",
              "    .colab-df-container {\n",
              "      display:flex;\n",
              "      gap: 12px;\n",
              "    }\n",
              "\n",
              "    .colab-df-convert {\n",
              "      background-color: #E8F0FE;\n",
              "      border: none;\n",
              "      border-radius: 50%;\n",
              "      cursor: pointer;\n",
              "      display: none;\n",
              "      fill: #1967D2;\n",
              "      height: 32px;\n",
              "      padding: 0 0 0 0;\n",
              "      width: 32px;\n",
              "    }\n",
              "\n",
              "    .colab-df-convert:hover {\n",
              "      background-color: #E2EBFA;\n",
              "      box-shadow: 0px 1px 2px rgba(60, 64, 67, 0.3), 0px 1px 3px 1px rgba(60, 64, 67, 0.15);\n",
              "      fill: #174EA6;\n",
              "    }\n",
              "\n",
              "    .colab-df-buttons div {\n",
              "      margin-bottom: 4px;\n",
              "    }\n",
              "\n",
              "    [theme=dark] .colab-df-convert {\n",
              "      background-color: #3B4455;\n",
              "      fill: #D2E3FC;\n",
              "    }\n",
              "\n",
              "    [theme=dark] .colab-df-convert:hover {\n",
              "      background-color: #434B5C;\n",
              "      box-shadow: 0px 1px 3px 1px rgba(0, 0, 0, 0.15);\n",
              "      filter: drop-shadow(0px 1px 2px rgba(0, 0, 0, 0.3));\n",
              "      fill: #FFFFFF;\n",
              "    }\n",
              "  </style>\n",
              "\n",
              "    <script>\n",
              "      const buttonEl =\n",
              "        document.querySelector('#df-e2552e6b-5be6-4505-a039-8f0bec378e3f button.colab-df-convert');\n",
              "      buttonEl.style.display =\n",
              "        google.colab.kernel.accessAllowed ? 'block' : 'none';\n",
              "\n",
              "      async function convertToInteractive(key) {\n",
              "        const element = document.querySelector('#df-e2552e6b-5be6-4505-a039-8f0bec378e3f');\n",
              "        const dataTable =\n",
              "          await google.colab.kernel.invokeFunction('convertToInteractive',\n",
              "                                                    [key], {});\n",
              "        if (!dataTable) return;\n",
              "\n",
              "        const docLinkHtml = 'Like what you see? Visit the ' +\n",
              "          '<a target=\"_blank\" href=https://colab.research.google.com/notebooks/data_table.ipynb>data table notebook</a>'\n",
              "          + ' to learn more about interactive tables.';\n",
              "        element.innerHTML = '';\n",
              "        dataTable['output_type'] = 'display_data';\n",
              "        await google.colab.output.renderOutput(dataTable, element);\n",
              "        const docLink = document.createElement('div');\n",
              "        docLink.innerHTML = docLinkHtml;\n",
              "        element.appendChild(docLink);\n",
              "      }\n",
              "    </script>\n",
              "  </div>\n",
              "\n",
              "\n",
              "<div id=\"df-7caa0e36-4163-47fc-9836-e4ed3f4b94a1\">\n",
              "  <button class=\"colab-df-quickchart\" onclick=\"quickchart('df-7caa0e36-4163-47fc-9836-e4ed3f4b94a1')\"\n",
              "            title=\"Suggest charts.\"\n",
              "            style=\"display:none;\">\n",
              "\n",
              "<svg xmlns=\"http://www.w3.org/2000/svg\" height=\"24px\"viewBox=\"0 0 24 24\"\n",
              "     width=\"24px\">\n",
              "    <g>\n",
              "        <path d=\"M19 3H5c-1.1 0-2 .9-2 2v14c0 1.1.9 2 2 2h14c1.1 0 2-.9 2-2V5c0-1.1-.9-2-2-2zM9 17H7v-7h2v7zm4 0h-2V7h2v10zm4 0h-2v-4h2v4z\"/>\n",
              "    </g>\n",
              "</svg>\n",
              "  </button>\n",
              "\n",
              "<style>\n",
              "  .colab-df-quickchart {\n",
              "      --bg-color: #E8F0FE;\n",
              "      --fill-color: #1967D2;\n",
              "      --hover-bg-color: #E2EBFA;\n",
              "      --hover-fill-color: #174EA6;\n",
              "      --disabled-fill-color: #AAA;\n",
              "      --disabled-bg-color: #DDD;\n",
              "  }\n",
              "\n",
              "  [theme=dark] .colab-df-quickchart {\n",
              "      --bg-color: #3B4455;\n",
              "      --fill-color: #D2E3FC;\n",
              "      --hover-bg-color: #434B5C;\n",
              "      --hover-fill-color: #FFFFFF;\n",
              "      --disabled-bg-color: #3B4455;\n",
              "      --disabled-fill-color: #666;\n",
              "  }\n",
              "\n",
              "  .colab-df-quickchart {\n",
              "    background-color: var(--bg-color);\n",
              "    border: none;\n",
              "    border-radius: 50%;\n",
              "    cursor: pointer;\n",
              "    display: none;\n",
              "    fill: var(--fill-color);\n",
              "    height: 32px;\n",
              "    padding: 0;\n",
              "    width: 32px;\n",
              "  }\n",
              "\n",
              "  .colab-df-quickchart:hover {\n",
              "    background-color: var(--hover-bg-color);\n",
              "    box-shadow: 0 1px 2px rgba(60, 64, 67, 0.3), 0 1px 3px 1px rgba(60, 64, 67, 0.15);\n",
              "    fill: var(--button-hover-fill-color);\n",
              "  }\n",
              "\n",
              "  .colab-df-quickchart-complete:disabled,\n",
              "  .colab-df-quickchart-complete:disabled:hover {\n",
              "    background-color: var(--disabled-bg-color);\n",
              "    fill: var(--disabled-fill-color);\n",
              "    box-shadow: none;\n",
              "  }\n",
              "\n",
              "  .colab-df-spinner {\n",
              "    border: 2px solid var(--fill-color);\n",
              "    border-color: transparent;\n",
              "    border-bottom-color: var(--fill-color);\n",
              "    animation:\n",
              "      spin 1s steps(1) infinite;\n",
              "  }\n",
              "\n",
              "  @keyframes spin {\n",
              "    0% {\n",
              "      border-color: transparent;\n",
              "      border-bottom-color: var(--fill-color);\n",
              "      border-left-color: var(--fill-color);\n",
              "    }\n",
              "    20% {\n",
              "      border-color: transparent;\n",
              "      border-left-color: var(--fill-color);\n",
              "      border-top-color: var(--fill-color);\n",
              "    }\n",
              "    30% {\n",
              "      border-color: transparent;\n",
              "      border-left-color: var(--fill-color);\n",
              "      border-top-color: var(--fill-color);\n",
              "      border-right-color: var(--fill-color);\n",
              "    }\n",
              "    40% {\n",
              "      border-color: transparent;\n",
              "      border-right-color: var(--fill-color);\n",
              "      border-top-color: var(--fill-color);\n",
              "    }\n",
              "    60% {\n",
              "      border-color: transparent;\n",
              "      border-right-color: var(--fill-color);\n",
              "    }\n",
              "    80% {\n",
              "      border-color: transparent;\n",
              "      border-right-color: var(--fill-color);\n",
              "      border-bottom-color: var(--fill-color);\n",
              "    }\n",
              "    90% {\n",
              "      border-color: transparent;\n",
              "      border-bottom-color: var(--fill-color);\n",
              "    }\n",
              "  }\n",
              "</style>\n",
              "\n",
              "  <script>\n",
              "    async function quickchart(key) {\n",
              "      const quickchartButtonEl =\n",
              "        document.querySelector('#' + key + ' button');\n",
              "      quickchartButtonEl.disabled = true;  // To prevent multiple clicks.\n",
              "      quickchartButtonEl.classList.add('colab-df-spinner');\n",
              "      try {\n",
              "        const charts = await google.colab.kernel.invokeFunction(\n",
              "            'suggestCharts', [key], {});\n",
              "      } catch (error) {\n",
              "        console.error('Error during call to suggestCharts:', error);\n",
              "      }\n",
              "      quickchartButtonEl.classList.remove('colab-df-spinner');\n",
              "      quickchartButtonEl.classList.add('colab-df-quickchart-complete');\n",
              "    }\n",
              "    (() => {\n",
              "      let quickchartButtonEl =\n",
              "        document.querySelector('#df-7caa0e36-4163-47fc-9836-e4ed3f4b94a1 button');\n",
              "      quickchartButtonEl.style.display =\n",
              "        google.colab.kernel.accessAllowed ? 'block' : 'none';\n",
              "    })();\n",
              "  </script>\n",
              "</div>\n",
              "    </div>\n",
              "  </div>\n"
            ]
          },
          "metadata": {},
          "execution_count": 6
        }
      ]
    },
    {
      "cell_type": "markdown",
      "source": [
        "##Data Splitting"
      ],
      "metadata": {
        "id": "qgxPV0MrAr5i"
      }
    },
    {
      "cell_type": "code",
      "source": [
        "# Split the data into a training set (70%) and a temporary combined validation/test set (30%)\n",
        "X_train,X_val_test,Y_train,Y_val_test = train_test_split(normalized_features,label, test_size=0.3, random_state=50)\n",
        "\n",
        "# Split the temporary validation/test set into validation (15%) and test (15%)\n",
        "X_val,X_test,Y_val,Y_test = train_test_split(X_val_test, Y_val_test, test_size=0.5, random_state=50)\n",
        "\n",
        "X_train.shape,Y_train.shape,X_val.shape,Y_val.shape,X_test.shape,Y_test.shape"
      ],
      "metadata": {
        "colab": {
          "base_uri": "https://localhost:8080/"
        },
        "id": "7fY5znkHAgOS",
        "outputId": "4154d76e-4921-44c9-fd62-450194c6c283"
      },
      "execution_count": 7,
      "outputs": [
        {
          "output_type": "execute_result",
          "data": {
            "text/plain": [
              "((14448, 13), (14448,), (3096, 13), (3096,), (3096, 13), (3096,))"
            ]
          },
          "metadata": {},
          "execution_count": 7
        }
      ]
    },
    {
      "cell_type": "markdown",
      "source": [
        "#Models"
      ],
      "metadata": {
        "id": "BgsWSnF4AvJc"
      }
    },
    {
      "cell_type": "markdown",
      "source": [
        "##Linear Regression"
      ],
      "metadata": {
        "id": "KGRZj_WNAwrZ"
      }
    },
    {
      "cell_type": "code",
      "source": [
        "# Fitting model\n",
        "linear_model=LinearRegression().fit(X_train, Y_train)\n",
        "# Printing W matrix\n",
        "print(linear_model.coef_)\n",
        "# Printing b\n",
        "print(linear_model.intercept_)"
      ],
      "metadata": {
        "colab": {
          "base_uri": "https://localhost:8080/"
        },
        "id": "mPpyL89dnPQl",
        "outputId": "28208104-68ec-411c-802f-f49a4d518bfb"
      },
      "execution_count": 8,
      "outputs": [
        {
          "output_type": "stream",
          "name": "stdout",
          "text": [
            "[  568932.31681945    42010.37486075  -251048.76629211   637418.44985778\n",
            " -1362442.46572199   307250.05816205  -414409.65297826  -284565.65590317\n",
            "   -70118.13852051  -149042.84905984   267048.38359517   165205.38517203\n",
            "  -158647.39691031]\n",
            "274294.80352659535\n"
          ]
        }
      ]
    },
    {
      "cell_type": "code",
      "source": [
        "# Model R2 score\n",
        "linear_model.score(X_val, Y_val)"
      ],
      "metadata": {
        "colab": {
          "base_uri": "https://localhost:8080/"
        },
        "id": "5RKzmBRbpldb",
        "outputId": "869b1836-d0e4-4d2c-81b0-7d7f5b75d975"
      },
      "execution_count": 9,
      "outputs": [
        {
          "output_type": "execute_result",
          "data": {
            "text/plain": [
              "0.6304132084367835"
            ]
          },
          "metadata": {},
          "execution_count": 9
        }
      ]
    },
    {
      "cell_type": "markdown",
      "source": [
        "##Ridge"
      ],
      "metadata": {
        "id": "qnsP1fAvA2CB"
      }
    },
    {
      "cell_type": "code",
      "source": [
        "#Fitting model\n",
        "ridge_model=Ridge().fit(X_train, Y_train)\n",
        "# Printing W matrix\n",
        "print(ridge_model.coef_)\n",
        "# Printing b\n",
        "print(ridge_model.intercept_)"
      ],
      "metadata": {
        "colab": {
          "base_uri": "https://localhost:8080/"
        },
        "id": "LJhiy-1A9L1_",
        "outputId": "95793a3c-635b-4028-e5fd-45e4f60793e3"
      },
      "execution_count": 10,
      "outputs": [
        {
          "output_type": "stream",
          "name": "stdout",
          "text": [
            "[ 560338.6249437    43639.8645592  -182279.91283189  523935.58333628\n",
            " -993864.31089277  195802.47974759 -320308.2225561  -285495.73593641\n",
            "  -86049.92629793 -133448.85520402  165614.50823957  136457.16699164\n",
            " -134354.61815423]\n",
            "277372.579708235\n"
          ]
        }
      ]
    },
    {
      "cell_type": "code",
      "source": [
        "# Model R2 score\n",
        "ridge_model.score(X_val,Y_val)"
      ],
      "metadata": {
        "colab": {
          "base_uri": "https://localhost:8080/"
        },
        "id": "zyTyh1RC9rNb",
        "outputId": "4978b852-f10a-4a1c-b596-58198f4a82d9"
      },
      "execution_count": 11,
      "outputs": [
        {
          "output_type": "execute_result",
          "data": {
            "text/plain": [
              "0.6261298489771556"
            ]
          },
          "metadata": {},
          "execution_count": 11
        }
      ]
    },
    {
      "cell_type": "markdown",
      "source": [
        "##Lasso"
      ],
      "metadata": {
        "id": "hCKf0C_rA3qe"
      }
    },
    {
      "cell_type": "code",
      "source": [
        "# Fitting Model\n",
        "lasso_model=Lasso().fit(X_train, Y_train)\n",
        "# Printing W matrix\n",
        "print(lasso_model.coef_)\n",
        "# Printing b\n",
        "print(lasso_model.intercept_)"
      ],
      "metadata": {
        "colab": {
          "base_uri": "https://localhost:8080/"
        },
        "id": "VX_alMKF9yTd",
        "outputId": "f352ebcf-d0d2-4c0b-d1bc-b05f1b8cd916"
      },
      "execution_count": 12,
      "outputs": [
        {
          "output_type": "stream",
          "name": "stdout",
          "text": [
            "[  568410.76496586    42176.20493273  -245917.73510396   636236.89216674\n",
            " -1356424.83784038   301403.29801323  -406371.80129563  -286301.66250311\n",
            "   -71131.43218276  -147506.63376236   257526.99541172   160481.92831555\n",
            "  -153753.70909494]\n",
            "275264.6419251805\n"
          ]
        },
        {
          "output_type": "stream",
          "name": "stderr",
          "text": [
            "/usr/local/lib/python3.10/dist-packages/sklearn/linear_model/_coordinate_descent.py:631: ConvergenceWarning: Objective did not converge. You might want to increase the number of iterations, check the scale of the features or consider increasing regularisation. Duality gap: 6.107e+12, tolerance: 1.926e+10\n",
            "  model = cd_fast.enet_coordinate_descent(\n"
          ]
        }
      ]
    },
    {
      "cell_type": "code",
      "source": [
        "# Model R2 score\n",
        "lasso_model.score(X_val,Y_val)"
      ],
      "metadata": {
        "colab": {
          "base_uri": "https://localhost:8080/"
        },
        "id": "3Mvx3Gr193Uu",
        "outputId": "e626b5bc-7fde-4e56-dff1-448a1dd43494"
      },
      "execution_count": 13,
      "outputs": [
        {
          "output_type": "execute_result",
          "data": {
            "text/plain": [
              "0.630355104044451"
            ]
          },
          "metadata": {},
          "execution_count": 13
        }
      ]
    },
    {
      "cell_type": "markdown",
      "source": [
        "#Model Reports"
      ],
      "metadata": {
        "id": "HXMdYMRiBnsH"
      }
    },
    {
      "cell_type": "code",
      "source": [
        "# Testign models\n",
        "linear_predictions=linear_model.predict(X_test)\n",
        "ridge_predictions=ridge_model.predict(X_test)\n",
        "lasso_predictions=lasso_model.predict(X_test)\n",
        "\n",
        "# Models MSE's\n",
        "linear_MSE=mean_squared_error(Y_test,linear_predictions)\n",
        "ridge_MSE=mean_squared_error(Y_test,ridge_predictions)\n",
        "lasso_MSE=mean_squared_error(Y_test,lasso_predictions)\n",
        "\n",
        "# Models MAE's\n",
        "linear_MAE=mean_absolute_error(Y_test,linear_predictions)\n",
        "ridge_MAE=mean_absolute_error(Y_test,ridge_predictions)\n",
        "lasso_MAE=mean_absolute_error(Y_test,lasso_predictions)\n",
        "\n",
        "print(f\"linear_MSE: {linear_MSE}\")\n",
        "print(f\"ridge_MSE: {ridge_MSE}\")\n",
        "print(f\"lasso_MSE: {lasso_MSE}\")\n",
        "print(f\"linear_MAE: {linear_MAE}\")\n",
        "print(f\"ridge_MAE: {ridge_MAE}\")\n",
        "print(f\"lasso_MAE: {lasso_MAE}\")"
      ],
      "metadata": {
        "colab": {
          "base_uri": "https://localhost:8080/"
        },
        "id": "R5dX75BwBrTq",
        "outputId": "74306fb2-578d-4438-cbf9-db74dfdbbb0f"
      },
      "execution_count": 15,
      "outputs": [
        {
          "output_type": "stream",
          "name": "stdout",
          "text": [
            "linear_MSE: 4619279281.692968\n",
            "ridge_MSE: 4669036813.8789215\n",
            "lasso_MSE: 4618367575.184077\n",
            "linear_MAE: 49833.84119175023\n",
            "ridge_MAE: 50203.82004012599\n",
            "lasso_MAE: 49833.08094974619\n"
          ]
        }
      ]
    }
  ]
}
